{
 "cells": [
  {
   "cell_type": "markdown",
   "metadata": {},
   "source": [
    "# World Happiness Explorations\n",
    "\n",
    "<img src=\"./images/happy_world.jpg\">\n",
    "\n",
    "### Tools used\n",
    "<details>\n",
    "    <summary> Click for all packages and tools used </summary>\n",
    "    \n",
    "* Numpy\n",
    "* Matplotlib\n",
    "* Pandas\n",
    "* Seaborn\n",
    "    \n",
    "</details>\n",
    "\n",
    "## There are many different factors that are brought to rank the countries of their \"Happiness\" \n",
    "\n",
    "In order to observe the main factors of the different countries happiness we looked into the Kaggle data set of the world happiness report over the past 5 years. Each year their have been many changes in how to accumulate the amount of differnt categories to understand the work that has been done. In order to take full advantage of the accuired information we look to the data and redisign the columns in order to have a equal distribution and understanding of the factors that determin the happiness of countries.\n",
    "\n",
    "## Main Factors:\n",
    "\n",
    "### Economy (GPD per Capita)\n",
    "The economy of any country plays a major towards the happiness of a nation. The security of getting paid for the people in the countries boosts the happiness score. \n",
    "\n",
    "<img src=\"./images/money_happy.jpg\">\n",
    "\n",
    "\n",
    "### Family/Social Support\n",
    "\n",
    "\n",
    "\n",
    "### Health/Life Expectency\n"
   ]
  },
  {
   "cell_type": "code",
   "execution_count": null,
   "metadata": {},
   "outputs": [],
   "source": []
  }
 ],
 "metadata": {
  "kernelspec": {
   "display_name": "Python 3",
   "language": "python",
   "name": "python3"
  },
  "language_info": {
   "codemirror_mode": {
    "name": "ipython",
    "version": 3
   },
   "file_extension": ".py",
   "mimetype": "text/x-python",
   "name": "python",
   "nbconvert_exporter": "python",
   "pygments_lexer": "ipython3",
   "version": "3.6.12"
  },
  "toc": {
   "base_numbering": 1,
   "nav_menu": {},
   "number_sections": true,
   "sideBar": true,
   "skip_h1_title": false,
   "title_cell": "Table of Contents",
   "title_sidebar": "Contents",
   "toc_cell": false,
   "toc_position": {},
   "toc_section_display": true,
   "toc_window_display": false
  }
 },
 "nbformat": 4,
 "nbformat_minor": 4
}
